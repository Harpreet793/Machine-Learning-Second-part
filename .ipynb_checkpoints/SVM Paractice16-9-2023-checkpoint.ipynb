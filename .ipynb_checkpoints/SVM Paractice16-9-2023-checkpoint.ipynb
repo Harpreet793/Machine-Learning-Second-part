{
 "cells": [
  {
   "cell_type": "markdown",
   "id": "8edd940c",
   "metadata": {},
   "source": [
    "# Import Libraries and Data"
   ]
  },
  {
   "cell_type": "code",
   "execution_count": 1,
   "id": "14a25793",
   "metadata": {},
   "outputs": [],
   "source": [
    "import pandas as pd \n",
    "import numpy as np\n",
    "import matplotlib.pyplot as plt\n",
    "import seaborn as sns\n",
    "%matplotlib inline"
   ]
  },
  {
   "cell_type": "code",
   "execution_count": 2,
   "id": "64d995cd",
   "metadata": {},
   "outputs": [
    {
     "data": {
      "text/html": [
       "<div>\n",
       "<style scoped>\n",
       "    .dataframe tbody tr th:only-of-type {\n",
       "        vertical-align: middle;\n",
       "    }\n",
       "\n",
       "    .dataframe tbody tr th {\n",
       "        vertical-align: top;\n",
       "    }\n",
       "\n",
       "    .dataframe thead th {\n",
       "        text-align: right;\n",
       "    }\n",
       "</style>\n",
       "<table border=\"1\" class=\"dataframe\">\n",
       "  <thead>\n",
       "    <tr style=\"text-align: right;\">\n",
       "      <th></th>\n",
       "      <th>meanfreq</th>\n",
       "      <th>sd</th>\n",
       "      <th>median</th>\n",
       "      <th>Q25</th>\n",
       "      <th>Q75</th>\n",
       "      <th>IQR</th>\n",
       "      <th>skew</th>\n",
       "      <th>kurt</th>\n",
       "      <th>sp.ent</th>\n",
       "      <th>sfm</th>\n",
       "      <th>...</th>\n",
       "      <th>centroid</th>\n",
       "      <th>meanfun</th>\n",
       "      <th>minfun</th>\n",
       "      <th>maxfun</th>\n",
       "      <th>meandom</th>\n",
       "      <th>mindom</th>\n",
       "      <th>maxdom</th>\n",
       "      <th>dfrange</th>\n",
       "      <th>modindx</th>\n",
       "      <th>label</th>\n",
       "    </tr>\n",
       "  </thead>\n",
       "  <tbody>\n",
       "    <tr>\n",
       "      <th>0</th>\n",
       "      <td>0.059781</td>\n",
       "      <td>0.064241</td>\n",
       "      <td>0.032027</td>\n",
       "      <td>0.015071</td>\n",
       "      <td>0.090193</td>\n",
       "      <td>0.075122</td>\n",
       "      <td>12.863462</td>\n",
       "      <td>274.402906</td>\n",
       "      <td>0.893369</td>\n",
       "      <td>0.491918</td>\n",
       "      <td>...</td>\n",
       "      <td>0.059781</td>\n",
       "      <td>0.084279</td>\n",
       "      <td>0.015702</td>\n",
       "      <td>0.275862</td>\n",
       "      <td>0.007812</td>\n",
       "      <td>0.007812</td>\n",
       "      <td>0.007812</td>\n",
       "      <td>0.000000</td>\n",
       "      <td>0.000000</td>\n",
       "      <td>male</td>\n",
       "    </tr>\n",
       "    <tr>\n",
       "      <th>1</th>\n",
       "      <td>0.066009</td>\n",
       "      <td>0.067310</td>\n",
       "      <td>0.040229</td>\n",
       "      <td>0.019414</td>\n",
       "      <td>0.092666</td>\n",
       "      <td>0.073252</td>\n",
       "      <td>22.423285</td>\n",
       "      <td>634.613855</td>\n",
       "      <td>0.892193</td>\n",
       "      <td>0.513724</td>\n",
       "      <td>...</td>\n",
       "      <td>0.066009</td>\n",
       "      <td>0.107937</td>\n",
       "      <td>0.015826</td>\n",
       "      <td>0.250000</td>\n",
       "      <td>0.009014</td>\n",
       "      <td>0.007812</td>\n",
       "      <td>0.054688</td>\n",
       "      <td>0.046875</td>\n",
       "      <td>0.052632</td>\n",
       "      <td>male</td>\n",
       "    </tr>\n",
       "    <tr>\n",
       "      <th>2</th>\n",
       "      <td>0.077316</td>\n",
       "      <td>0.083829</td>\n",
       "      <td>0.036718</td>\n",
       "      <td>0.008701</td>\n",
       "      <td>0.131908</td>\n",
       "      <td>0.123207</td>\n",
       "      <td>30.757155</td>\n",
       "      <td>1024.927705</td>\n",
       "      <td>0.846389</td>\n",
       "      <td>0.478905</td>\n",
       "      <td>...</td>\n",
       "      <td>0.077316</td>\n",
       "      <td>0.098706</td>\n",
       "      <td>0.015656</td>\n",
       "      <td>0.271186</td>\n",
       "      <td>0.007990</td>\n",
       "      <td>0.007812</td>\n",
       "      <td>0.015625</td>\n",
       "      <td>0.007812</td>\n",
       "      <td>0.046512</td>\n",
       "      <td>male</td>\n",
       "    </tr>\n",
       "    <tr>\n",
       "      <th>3</th>\n",
       "      <td>0.151228</td>\n",
       "      <td>0.072111</td>\n",
       "      <td>0.158011</td>\n",
       "      <td>0.096582</td>\n",
       "      <td>0.207955</td>\n",
       "      <td>0.111374</td>\n",
       "      <td>1.232831</td>\n",
       "      <td>4.177296</td>\n",
       "      <td>0.963322</td>\n",
       "      <td>0.727232</td>\n",
       "      <td>...</td>\n",
       "      <td>0.151228</td>\n",
       "      <td>0.088965</td>\n",
       "      <td>0.017798</td>\n",
       "      <td>0.250000</td>\n",
       "      <td>0.201497</td>\n",
       "      <td>0.007812</td>\n",
       "      <td>0.562500</td>\n",
       "      <td>0.554688</td>\n",
       "      <td>0.247119</td>\n",
       "      <td>male</td>\n",
       "    </tr>\n",
       "    <tr>\n",
       "      <th>4</th>\n",
       "      <td>0.135120</td>\n",
       "      <td>0.079146</td>\n",
       "      <td>0.124656</td>\n",
       "      <td>0.078720</td>\n",
       "      <td>0.206045</td>\n",
       "      <td>0.127325</td>\n",
       "      <td>1.101174</td>\n",
       "      <td>4.333713</td>\n",
       "      <td>0.971955</td>\n",
       "      <td>0.783568</td>\n",
       "      <td>...</td>\n",
       "      <td>0.135120</td>\n",
       "      <td>0.106398</td>\n",
       "      <td>0.016931</td>\n",
       "      <td>0.266667</td>\n",
       "      <td>0.712812</td>\n",
       "      <td>0.007812</td>\n",
       "      <td>5.484375</td>\n",
       "      <td>5.476562</td>\n",
       "      <td>0.208274</td>\n",
       "      <td>male</td>\n",
       "    </tr>\n",
       "  </tbody>\n",
       "</table>\n",
       "<p>5 rows × 21 columns</p>\n",
       "</div>"
      ],
      "text/plain": [
       "   meanfreq        sd    median       Q25       Q75       IQR       skew  \\\n",
       "0  0.059781  0.064241  0.032027  0.015071  0.090193  0.075122  12.863462   \n",
       "1  0.066009  0.067310  0.040229  0.019414  0.092666  0.073252  22.423285   \n",
       "2  0.077316  0.083829  0.036718  0.008701  0.131908  0.123207  30.757155   \n",
       "3  0.151228  0.072111  0.158011  0.096582  0.207955  0.111374   1.232831   \n",
       "4  0.135120  0.079146  0.124656  0.078720  0.206045  0.127325   1.101174   \n",
       "\n",
       "          kurt    sp.ent       sfm  ...  centroid   meanfun    minfun  \\\n",
       "0   274.402906  0.893369  0.491918  ...  0.059781  0.084279  0.015702   \n",
       "1   634.613855  0.892193  0.513724  ...  0.066009  0.107937  0.015826   \n",
       "2  1024.927705  0.846389  0.478905  ...  0.077316  0.098706  0.015656   \n",
       "3     4.177296  0.963322  0.727232  ...  0.151228  0.088965  0.017798   \n",
       "4     4.333713  0.971955  0.783568  ...  0.135120  0.106398  0.016931   \n",
       "\n",
       "     maxfun   meandom    mindom    maxdom   dfrange   modindx  label  \n",
       "0  0.275862  0.007812  0.007812  0.007812  0.000000  0.000000   male  \n",
       "1  0.250000  0.009014  0.007812  0.054688  0.046875  0.052632   male  \n",
       "2  0.271186  0.007990  0.007812  0.015625  0.007812  0.046512   male  \n",
       "3  0.250000  0.201497  0.007812  0.562500  0.554688  0.247119   male  \n",
       "4  0.266667  0.712812  0.007812  5.484375  5.476562  0.208274   male  \n",
       "\n",
       "[5 rows x 21 columns]"
      ]
     },
     "execution_count": 2,
     "metadata": {},
     "output_type": "execute_result"
    }
   ],
   "source": [
    "data = pd.read_csv('voice.csv')\n",
    "data.head()"
   ]
  },
  {
   "cell_type": "code",
   "execution_count": 3,
   "id": "a7cb0f0b",
   "metadata": {},
   "outputs": [
    {
     "data": {
      "text/plain": [
       "(3168, 21)"
      ]
     },
     "execution_count": 3,
     "metadata": {},
     "output_type": "execute_result"
    }
   ],
   "source": [
    "data.shape"
   ]
  },
  {
   "cell_type": "markdown",
   "id": "eaf8eb4e",
   "metadata": {},
   "source": [
    "# Correlation Check"
   ]
  },
  {
   "cell_type": "code",
   "execution_count": 4,
   "id": "b9571d3d",
   "metadata": {},
   "outputs": [
    {
     "name": "stderr",
     "output_type": "stream",
     "text": [
      "C:\\Users\\Harpreet\\AppData\\Local\\Temp\\ipykernel_4296\\563200516.py:1: FutureWarning: The default value of numeric_only in DataFrame.corr is deprecated. In a future version, it will default to False. Select only valid columns or specify the value of numeric_only to silence this warning.\n",
      "  corrmat = data.corr()\n"
     ]
    },
    {
     "data": {
      "text/html": [
       "<div>\n",
       "<style scoped>\n",
       "    .dataframe tbody tr th:only-of-type {\n",
       "        vertical-align: middle;\n",
       "    }\n",
       "\n",
       "    .dataframe tbody tr th {\n",
       "        vertical-align: top;\n",
       "    }\n",
       "\n",
       "    .dataframe thead th {\n",
       "        text-align: right;\n",
       "    }\n",
       "</style>\n",
       "<table border=\"1\" class=\"dataframe\">\n",
       "  <thead>\n",
       "    <tr style=\"text-align: right;\">\n",
       "      <th></th>\n",
       "      <th>meanfreq</th>\n",
       "      <th>sd</th>\n",
       "      <th>median</th>\n",
       "      <th>Q25</th>\n",
       "      <th>Q75</th>\n",
       "      <th>IQR</th>\n",
       "      <th>skew</th>\n",
       "      <th>kurt</th>\n",
       "      <th>sp.ent</th>\n",
       "      <th>sfm</th>\n",
       "      <th>mode</th>\n",
       "      <th>centroid</th>\n",
       "      <th>meanfun</th>\n",
       "      <th>minfun</th>\n",
       "      <th>maxfun</th>\n",
       "      <th>meandom</th>\n",
       "      <th>mindom</th>\n",
       "      <th>maxdom</th>\n",
       "      <th>dfrange</th>\n",
       "      <th>modindx</th>\n",
       "    </tr>\n",
       "  </thead>\n",
       "  <tbody>\n",
       "    <tr>\n",
       "      <th>meanfreq</th>\n",
       "      <td>1.000000</td>\n",
       "      <td>-0.739039</td>\n",
       "      <td>0.925445</td>\n",
       "      <td>0.911416</td>\n",
       "      <td>0.740997</td>\n",
       "      <td>-0.627605</td>\n",
       "      <td>-0.322327</td>\n",
       "      <td>-0.316036</td>\n",
       "      <td>-0.601203</td>\n",
       "      <td>-0.784332</td>\n",
       "      <td>0.687715</td>\n",
       "      <td>1.000000</td>\n",
       "      <td>0.460844</td>\n",
       "      <td>0.383937</td>\n",
       "      <td>0.274004</td>\n",
       "      <td>0.536666</td>\n",
       "      <td>0.229261</td>\n",
       "      <td>0.519528</td>\n",
       "      <td>0.515570</td>\n",
       "      <td>-0.216979</td>\n",
       "    </tr>\n",
       "    <tr>\n",
       "      <th>sd</th>\n",
       "      <td>-0.739039</td>\n",
       "      <td>1.000000</td>\n",
       "      <td>-0.562603</td>\n",
       "      <td>-0.846931</td>\n",
       "      <td>-0.161076</td>\n",
       "      <td>0.874660</td>\n",
       "      <td>0.314597</td>\n",
       "      <td>0.346241</td>\n",
       "      <td>0.716620</td>\n",
       "      <td>0.838086</td>\n",
       "      <td>-0.529150</td>\n",
       "      <td>-0.739039</td>\n",
       "      <td>-0.466281</td>\n",
       "      <td>-0.345609</td>\n",
       "      <td>-0.129662</td>\n",
       "      <td>-0.482726</td>\n",
       "      <td>-0.357667</td>\n",
       "      <td>-0.482278</td>\n",
       "      <td>-0.475999</td>\n",
       "      <td>0.122660</td>\n",
       "    </tr>\n",
       "    <tr>\n",
       "      <th>median</th>\n",
       "      <td>0.925445</td>\n",
       "      <td>-0.562603</td>\n",
       "      <td>1.000000</td>\n",
       "      <td>0.774922</td>\n",
       "      <td>0.731849</td>\n",
       "      <td>-0.477352</td>\n",
       "      <td>-0.257407</td>\n",
       "      <td>-0.243382</td>\n",
       "      <td>-0.502005</td>\n",
       "      <td>-0.661690</td>\n",
       "      <td>0.677433</td>\n",
       "      <td>0.925445</td>\n",
       "      <td>0.414909</td>\n",
       "      <td>0.337602</td>\n",
       "      <td>0.251328</td>\n",
       "      <td>0.455943</td>\n",
       "      <td>0.191169</td>\n",
       "      <td>0.438919</td>\n",
       "      <td>0.435621</td>\n",
       "      <td>-0.213298</td>\n",
       "    </tr>\n",
       "    <tr>\n",
       "      <th>Q25</th>\n",
       "      <td>0.911416</td>\n",
       "      <td>-0.846931</td>\n",
       "      <td>0.774922</td>\n",
       "      <td>1.000000</td>\n",
       "      <td>0.477140</td>\n",
       "      <td>-0.874189</td>\n",
       "      <td>-0.319475</td>\n",
       "      <td>-0.350182</td>\n",
       "      <td>-0.648126</td>\n",
       "      <td>-0.766875</td>\n",
       "      <td>0.591277</td>\n",
       "      <td>0.911416</td>\n",
       "      <td>0.545035</td>\n",
       "      <td>0.320994</td>\n",
       "      <td>0.199841</td>\n",
       "      <td>0.467403</td>\n",
       "      <td>0.302255</td>\n",
       "      <td>0.459683</td>\n",
       "      <td>0.454394</td>\n",
       "      <td>-0.141377</td>\n",
       "    </tr>\n",
       "    <tr>\n",
       "      <th>Q75</th>\n",
       "      <td>0.740997</td>\n",
       "      <td>-0.161076</td>\n",
       "      <td>0.731849</td>\n",
       "      <td>0.477140</td>\n",
       "      <td>1.000000</td>\n",
       "      <td>0.009636</td>\n",
       "      <td>-0.206339</td>\n",
       "      <td>-0.148881</td>\n",
       "      <td>-0.174905</td>\n",
       "      <td>-0.378198</td>\n",
       "      <td>0.486857</td>\n",
       "      <td>0.740997</td>\n",
       "      <td>0.155091</td>\n",
       "      <td>0.258002</td>\n",
       "      <td>0.285584</td>\n",
       "      <td>0.359181</td>\n",
       "      <td>-0.023750</td>\n",
       "      <td>0.335114</td>\n",
       "      <td>0.335648</td>\n",
       "      <td>-0.216475</td>\n",
       "    </tr>\n",
       "    <tr>\n",
       "      <th>IQR</th>\n",
       "      <td>-0.627605</td>\n",
       "      <td>0.874660</td>\n",
       "      <td>-0.477352</td>\n",
       "      <td>-0.874189</td>\n",
       "      <td>0.009636</td>\n",
       "      <td>1.000000</td>\n",
       "      <td>0.249497</td>\n",
       "      <td>0.316185</td>\n",
       "      <td>0.640813</td>\n",
       "      <td>0.663601</td>\n",
       "      <td>-0.403764</td>\n",
       "      <td>-0.627605</td>\n",
       "      <td>-0.534462</td>\n",
       "      <td>-0.222680</td>\n",
       "      <td>-0.069588</td>\n",
       "      <td>-0.333362</td>\n",
       "      <td>-0.357037</td>\n",
       "      <td>-0.337877</td>\n",
       "      <td>-0.331563</td>\n",
       "      <td>0.041252</td>\n",
       "    </tr>\n",
       "    <tr>\n",
       "      <th>skew</th>\n",
       "      <td>-0.322327</td>\n",
       "      <td>0.314597</td>\n",
       "      <td>-0.257407</td>\n",
       "      <td>-0.319475</td>\n",
       "      <td>-0.206339</td>\n",
       "      <td>0.249497</td>\n",
       "      <td>1.000000</td>\n",
       "      <td>0.977020</td>\n",
       "      <td>-0.195459</td>\n",
       "      <td>0.079694</td>\n",
       "      <td>-0.434859</td>\n",
       "      <td>-0.322327</td>\n",
       "      <td>-0.167668</td>\n",
       "      <td>-0.216954</td>\n",
       "      <td>-0.080861</td>\n",
       "      <td>-0.336848</td>\n",
       "      <td>-0.061608</td>\n",
       "      <td>-0.305651</td>\n",
       "      <td>-0.304640</td>\n",
       "      <td>-0.169325</td>\n",
       "    </tr>\n",
       "    <tr>\n",
       "      <th>kurt</th>\n",
       "      <td>-0.316036</td>\n",
       "      <td>0.346241</td>\n",
       "      <td>-0.243382</td>\n",
       "      <td>-0.350182</td>\n",
       "      <td>-0.148881</td>\n",
       "      <td>0.316185</td>\n",
       "      <td>0.977020</td>\n",
       "      <td>1.000000</td>\n",
       "      <td>-0.127644</td>\n",
       "      <td>0.109884</td>\n",
       "      <td>-0.406722</td>\n",
       "      <td>-0.316036</td>\n",
       "      <td>-0.194560</td>\n",
       "      <td>-0.203201</td>\n",
       "      <td>-0.045667</td>\n",
       "      <td>-0.303234</td>\n",
       "      <td>-0.103313</td>\n",
       "      <td>-0.274500</td>\n",
       "      <td>-0.272729</td>\n",
       "      <td>-0.205539</td>\n",
       "    </tr>\n",
       "    <tr>\n",
       "      <th>sp.ent</th>\n",
       "      <td>-0.601203</td>\n",
       "      <td>0.716620</td>\n",
       "      <td>-0.502005</td>\n",
       "      <td>-0.648126</td>\n",
       "      <td>-0.174905</td>\n",
       "      <td>0.640813</td>\n",
       "      <td>-0.195459</td>\n",
       "      <td>-0.127644</td>\n",
       "      <td>1.000000</td>\n",
       "      <td>0.866411</td>\n",
       "      <td>-0.325298</td>\n",
       "      <td>-0.601203</td>\n",
       "      <td>-0.513194</td>\n",
       "      <td>-0.305826</td>\n",
       "      <td>-0.120738</td>\n",
       "      <td>-0.293562</td>\n",
       "      <td>-0.294869</td>\n",
       "      <td>-0.324253</td>\n",
       "      <td>-0.319054</td>\n",
       "      <td>0.198074</td>\n",
       "    </tr>\n",
       "    <tr>\n",
       "      <th>sfm</th>\n",
       "      <td>-0.784332</td>\n",
       "      <td>0.838086</td>\n",
       "      <td>-0.661690</td>\n",
       "      <td>-0.766875</td>\n",
       "      <td>-0.378198</td>\n",
       "      <td>0.663601</td>\n",
       "      <td>0.079694</td>\n",
       "      <td>0.109884</td>\n",
       "      <td>0.866411</td>\n",
       "      <td>1.000000</td>\n",
       "      <td>-0.485913</td>\n",
       "      <td>-0.784332</td>\n",
       "      <td>-0.421066</td>\n",
       "      <td>-0.362100</td>\n",
       "      <td>-0.192369</td>\n",
       "      <td>-0.428442</td>\n",
       "      <td>-0.289593</td>\n",
       "      <td>-0.436649</td>\n",
       "      <td>-0.431580</td>\n",
       "      <td>0.211477</td>\n",
       "    </tr>\n",
       "    <tr>\n",
       "      <th>mode</th>\n",
       "      <td>0.687715</td>\n",
       "      <td>-0.529150</td>\n",
       "      <td>0.677433</td>\n",
       "      <td>0.591277</td>\n",
       "      <td>0.486857</td>\n",
       "      <td>-0.403764</td>\n",
       "      <td>-0.434859</td>\n",
       "      <td>-0.406722</td>\n",
       "      <td>-0.325298</td>\n",
       "      <td>-0.485913</td>\n",
       "      <td>1.000000</td>\n",
       "      <td>0.687715</td>\n",
       "      <td>0.324771</td>\n",
       "      <td>0.385467</td>\n",
       "      <td>0.172329</td>\n",
       "      <td>0.491479</td>\n",
       "      <td>0.198150</td>\n",
       "      <td>0.477187</td>\n",
       "      <td>0.473775</td>\n",
       "      <td>-0.182344</td>\n",
       "    </tr>\n",
       "    <tr>\n",
       "      <th>centroid</th>\n",
       "      <td>1.000000</td>\n",
       "      <td>-0.739039</td>\n",
       "      <td>0.925445</td>\n",
       "      <td>0.911416</td>\n",
       "      <td>0.740997</td>\n",
       "      <td>-0.627605</td>\n",
       "      <td>-0.322327</td>\n",
       "      <td>-0.316036</td>\n",
       "      <td>-0.601203</td>\n",
       "      <td>-0.784332</td>\n",
       "      <td>0.687715</td>\n",
       "      <td>1.000000</td>\n",
       "      <td>0.460844</td>\n",
       "      <td>0.383937</td>\n",
       "      <td>0.274004</td>\n",
       "      <td>0.536666</td>\n",
       "      <td>0.229261</td>\n",
       "      <td>0.519528</td>\n",
       "      <td>0.515570</td>\n",
       "      <td>-0.216979</td>\n",
       "    </tr>\n",
       "    <tr>\n",
       "      <th>meanfun</th>\n",
       "      <td>0.460844</td>\n",
       "      <td>-0.466281</td>\n",
       "      <td>0.414909</td>\n",
       "      <td>0.545035</td>\n",
       "      <td>0.155091</td>\n",
       "      <td>-0.534462</td>\n",
       "      <td>-0.167668</td>\n",
       "      <td>-0.194560</td>\n",
       "      <td>-0.513194</td>\n",
       "      <td>-0.421066</td>\n",
       "      <td>0.324771</td>\n",
       "      <td>0.460844</td>\n",
       "      <td>1.000000</td>\n",
       "      <td>0.339387</td>\n",
       "      <td>0.311950</td>\n",
       "      <td>0.270840</td>\n",
       "      <td>0.162163</td>\n",
       "      <td>0.277982</td>\n",
       "      <td>0.275154</td>\n",
       "      <td>-0.054858</td>\n",
       "    </tr>\n",
       "    <tr>\n",
       "      <th>minfun</th>\n",
       "      <td>0.383937</td>\n",
       "      <td>-0.345609</td>\n",
       "      <td>0.337602</td>\n",
       "      <td>0.320994</td>\n",
       "      <td>0.258002</td>\n",
       "      <td>-0.222680</td>\n",
       "      <td>-0.216954</td>\n",
       "      <td>-0.203201</td>\n",
       "      <td>-0.305826</td>\n",
       "      <td>-0.362100</td>\n",
       "      <td>0.385467</td>\n",
       "      <td>0.383937</td>\n",
       "      <td>0.339387</td>\n",
       "      <td>1.000000</td>\n",
       "      <td>0.213987</td>\n",
       "      <td>0.375979</td>\n",
       "      <td>0.082015</td>\n",
       "      <td>0.317860</td>\n",
       "      <td>0.316486</td>\n",
       "      <td>0.002042</td>\n",
       "    </tr>\n",
       "    <tr>\n",
       "      <th>maxfun</th>\n",
       "      <td>0.274004</td>\n",
       "      <td>-0.129662</td>\n",
       "      <td>0.251328</td>\n",
       "      <td>0.199841</td>\n",
       "      <td>0.285584</td>\n",
       "      <td>-0.069588</td>\n",
       "      <td>-0.080861</td>\n",
       "      <td>-0.045667</td>\n",
       "      <td>-0.120738</td>\n",
       "      <td>-0.192369</td>\n",
       "      <td>0.172329</td>\n",
       "      <td>0.274004</td>\n",
       "      <td>0.311950</td>\n",
       "      <td>0.213987</td>\n",
       "      <td>1.000000</td>\n",
       "      <td>0.337553</td>\n",
       "      <td>-0.243426</td>\n",
       "      <td>0.355390</td>\n",
       "      <td>0.359880</td>\n",
       "      <td>-0.363029</td>\n",
       "    </tr>\n",
       "    <tr>\n",
       "      <th>meandom</th>\n",
       "      <td>0.536666</td>\n",
       "      <td>-0.482726</td>\n",
       "      <td>0.455943</td>\n",
       "      <td>0.467403</td>\n",
       "      <td>0.359181</td>\n",
       "      <td>-0.333362</td>\n",
       "      <td>-0.336848</td>\n",
       "      <td>-0.303234</td>\n",
       "      <td>-0.293562</td>\n",
       "      <td>-0.428442</td>\n",
       "      <td>0.491479</td>\n",
       "      <td>0.536666</td>\n",
       "      <td>0.270840</td>\n",
       "      <td>0.375979</td>\n",
       "      <td>0.337553</td>\n",
       "      <td>1.000000</td>\n",
       "      <td>0.099656</td>\n",
       "      <td>0.812838</td>\n",
       "      <td>0.811304</td>\n",
       "      <td>-0.180954</td>\n",
       "    </tr>\n",
       "    <tr>\n",
       "      <th>mindom</th>\n",
       "      <td>0.229261</td>\n",
       "      <td>-0.357667</td>\n",
       "      <td>0.191169</td>\n",
       "      <td>0.302255</td>\n",
       "      <td>-0.023750</td>\n",
       "      <td>-0.357037</td>\n",
       "      <td>-0.061608</td>\n",
       "      <td>-0.103313</td>\n",
       "      <td>-0.294869</td>\n",
       "      <td>-0.289593</td>\n",
       "      <td>0.198150</td>\n",
       "      <td>0.229261</td>\n",
       "      <td>0.162163</td>\n",
       "      <td>0.082015</td>\n",
       "      <td>-0.243426</td>\n",
       "      <td>0.099656</td>\n",
       "      <td>1.000000</td>\n",
       "      <td>0.026640</td>\n",
       "      <td>0.008666</td>\n",
       "      <td>0.200212</td>\n",
       "    </tr>\n",
       "    <tr>\n",
       "      <th>maxdom</th>\n",
       "      <td>0.519528</td>\n",
       "      <td>-0.482278</td>\n",
       "      <td>0.438919</td>\n",
       "      <td>0.459683</td>\n",
       "      <td>0.335114</td>\n",
       "      <td>-0.337877</td>\n",
       "      <td>-0.305651</td>\n",
       "      <td>-0.274500</td>\n",
       "      <td>-0.324253</td>\n",
       "      <td>-0.436649</td>\n",
       "      <td>0.477187</td>\n",
       "      <td>0.519528</td>\n",
       "      <td>0.277982</td>\n",
       "      <td>0.317860</td>\n",
       "      <td>0.355390</td>\n",
       "      <td>0.812838</td>\n",
       "      <td>0.026640</td>\n",
       "      <td>1.000000</td>\n",
       "      <td>0.999838</td>\n",
       "      <td>-0.425531</td>\n",
       "    </tr>\n",
       "    <tr>\n",
       "      <th>dfrange</th>\n",
       "      <td>0.515570</td>\n",
       "      <td>-0.475999</td>\n",
       "      <td>0.435621</td>\n",
       "      <td>0.454394</td>\n",
       "      <td>0.335648</td>\n",
       "      <td>-0.331563</td>\n",
       "      <td>-0.304640</td>\n",
       "      <td>-0.272729</td>\n",
       "      <td>-0.319054</td>\n",
       "      <td>-0.431580</td>\n",
       "      <td>0.473775</td>\n",
       "      <td>0.515570</td>\n",
       "      <td>0.275154</td>\n",
       "      <td>0.316486</td>\n",
       "      <td>0.359880</td>\n",
       "      <td>0.811304</td>\n",
       "      <td>0.008666</td>\n",
       "      <td>0.999838</td>\n",
       "      <td>1.000000</td>\n",
       "      <td>-0.429266</td>\n",
       "    </tr>\n",
       "    <tr>\n",
       "      <th>modindx</th>\n",
       "      <td>-0.216979</td>\n",
       "      <td>0.122660</td>\n",
       "      <td>-0.213298</td>\n",
       "      <td>-0.141377</td>\n",
       "      <td>-0.216475</td>\n",
       "      <td>0.041252</td>\n",
       "      <td>-0.169325</td>\n",
       "      <td>-0.205539</td>\n",
       "      <td>0.198074</td>\n",
       "      <td>0.211477</td>\n",
       "      <td>-0.182344</td>\n",
       "      <td>-0.216979</td>\n",
       "      <td>-0.054858</td>\n",
       "      <td>0.002042</td>\n",
       "      <td>-0.363029</td>\n",
       "      <td>-0.180954</td>\n",
       "      <td>0.200212</td>\n",
       "      <td>-0.425531</td>\n",
       "      <td>-0.429266</td>\n",
       "      <td>1.000000</td>\n",
       "    </tr>\n",
       "  </tbody>\n",
       "</table>\n",
       "</div>"
      ],
      "text/plain": [
       "          meanfreq        sd    median       Q25       Q75       IQR  \\\n",
       "meanfreq  1.000000 -0.739039  0.925445  0.911416  0.740997 -0.627605   \n",
       "sd       -0.739039  1.000000 -0.562603 -0.846931 -0.161076  0.874660   \n",
       "median    0.925445 -0.562603  1.000000  0.774922  0.731849 -0.477352   \n",
       "Q25       0.911416 -0.846931  0.774922  1.000000  0.477140 -0.874189   \n",
       "Q75       0.740997 -0.161076  0.731849  0.477140  1.000000  0.009636   \n",
       "IQR      -0.627605  0.874660 -0.477352 -0.874189  0.009636  1.000000   \n",
       "skew     -0.322327  0.314597 -0.257407 -0.319475 -0.206339  0.249497   \n",
       "kurt     -0.316036  0.346241 -0.243382 -0.350182 -0.148881  0.316185   \n",
       "sp.ent   -0.601203  0.716620 -0.502005 -0.648126 -0.174905  0.640813   \n",
       "sfm      -0.784332  0.838086 -0.661690 -0.766875 -0.378198  0.663601   \n",
       "mode      0.687715 -0.529150  0.677433  0.591277  0.486857 -0.403764   \n",
       "centroid  1.000000 -0.739039  0.925445  0.911416  0.740997 -0.627605   \n",
       "meanfun   0.460844 -0.466281  0.414909  0.545035  0.155091 -0.534462   \n",
       "minfun    0.383937 -0.345609  0.337602  0.320994  0.258002 -0.222680   \n",
       "maxfun    0.274004 -0.129662  0.251328  0.199841  0.285584 -0.069588   \n",
       "meandom   0.536666 -0.482726  0.455943  0.467403  0.359181 -0.333362   \n",
       "mindom    0.229261 -0.357667  0.191169  0.302255 -0.023750 -0.357037   \n",
       "maxdom    0.519528 -0.482278  0.438919  0.459683  0.335114 -0.337877   \n",
       "dfrange   0.515570 -0.475999  0.435621  0.454394  0.335648 -0.331563   \n",
       "modindx  -0.216979  0.122660 -0.213298 -0.141377 -0.216475  0.041252   \n",
       "\n",
       "              skew      kurt    sp.ent       sfm      mode  centroid  \\\n",
       "meanfreq -0.322327 -0.316036 -0.601203 -0.784332  0.687715  1.000000   \n",
       "sd        0.314597  0.346241  0.716620  0.838086 -0.529150 -0.739039   \n",
       "median   -0.257407 -0.243382 -0.502005 -0.661690  0.677433  0.925445   \n",
       "Q25      -0.319475 -0.350182 -0.648126 -0.766875  0.591277  0.911416   \n",
       "Q75      -0.206339 -0.148881 -0.174905 -0.378198  0.486857  0.740997   \n",
       "IQR       0.249497  0.316185  0.640813  0.663601 -0.403764 -0.627605   \n",
       "skew      1.000000  0.977020 -0.195459  0.079694 -0.434859 -0.322327   \n",
       "kurt      0.977020  1.000000 -0.127644  0.109884 -0.406722 -0.316036   \n",
       "sp.ent   -0.195459 -0.127644  1.000000  0.866411 -0.325298 -0.601203   \n",
       "sfm       0.079694  0.109884  0.866411  1.000000 -0.485913 -0.784332   \n",
       "mode     -0.434859 -0.406722 -0.325298 -0.485913  1.000000  0.687715   \n",
       "centroid -0.322327 -0.316036 -0.601203 -0.784332  0.687715  1.000000   \n",
       "meanfun  -0.167668 -0.194560 -0.513194 -0.421066  0.324771  0.460844   \n",
       "minfun   -0.216954 -0.203201 -0.305826 -0.362100  0.385467  0.383937   \n",
       "maxfun   -0.080861 -0.045667 -0.120738 -0.192369  0.172329  0.274004   \n",
       "meandom  -0.336848 -0.303234 -0.293562 -0.428442  0.491479  0.536666   \n",
       "mindom   -0.061608 -0.103313 -0.294869 -0.289593  0.198150  0.229261   \n",
       "maxdom   -0.305651 -0.274500 -0.324253 -0.436649  0.477187  0.519528   \n",
       "dfrange  -0.304640 -0.272729 -0.319054 -0.431580  0.473775  0.515570   \n",
       "modindx  -0.169325 -0.205539  0.198074  0.211477 -0.182344 -0.216979   \n",
       "\n",
       "           meanfun    minfun    maxfun   meandom    mindom    maxdom  \\\n",
       "meanfreq  0.460844  0.383937  0.274004  0.536666  0.229261  0.519528   \n",
       "sd       -0.466281 -0.345609 -0.129662 -0.482726 -0.357667 -0.482278   \n",
       "median    0.414909  0.337602  0.251328  0.455943  0.191169  0.438919   \n",
       "Q25       0.545035  0.320994  0.199841  0.467403  0.302255  0.459683   \n",
       "Q75       0.155091  0.258002  0.285584  0.359181 -0.023750  0.335114   \n",
       "IQR      -0.534462 -0.222680 -0.069588 -0.333362 -0.357037 -0.337877   \n",
       "skew     -0.167668 -0.216954 -0.080861 -0.336848 -0.061608 -0.305651   \n",
       "kurt     -0.194560 -0.203201 -0.045667 -0.303234 -0.103313 -0.274500   \n",
       "sp.ent   -0.513194 -0.305826 -0.120738 -0.293562 -0.294869 -0.324253   \n",
       "sfm      -0.421066 -0.362100 -0.192369 -0.428442 -0.289593 -0.436649   \n",
       "mode      0.324771  0.385467  0.172329  0.491479  0.198150  0.477187   \n",
       "centroid  0.460844  0.383937  0.274004  0.536666  0.229261  0.519528   \n",
       "meanfun   1.000000  0.339387  0.311950  0.270840  0.162163  0.277982   \n",
       "minfun    0.339387  1.000000  0.213987  0.375979  0.082015  0.317860   \n",
       "maxfun    0.311950  0.213987  1.000000  0.337553 -0.243426  0.355390   \n",
       "meandom   0.270840  0.375979  0.337553  1.000000  0.099656  0.812838   \n",
       "mindom    0.162163  0.082015 -0.243426  0.099656  1.000000  0.026640   \n",
       "maxdom    0.277982  0.317860  0.355390  0.812838  0.026640  1.000000   \n",
       "dfrange   0.275154  0.316486  0.359880  0.811304  0.008666  0.999838   \n",
       "modindx  -0.054858  0.002042 -0.363029 -0.180954  0.200212 -0.425531   \n",
       "\n",
       "           dfrange   modindx  \n",
       "meanfreq  0.515570 -0.216979  \n",
       "sd       -0.475999  0.122660  \n",
       "median    0.435621 -0.213298  \n",
       "Q25       0.454394 -0.141377  \n",
       "Q75       0.335648 -0.216475  \n",
       "IQR      -0.331563  0.041252  \n",
       "skew     -0.304640 -0.169325  \n",
       "kurt     -0.272729 -0.205539  \n",
       "sp.ent   -0.319054  0.198074  \n",
       "sfm      -0.431580  0.211477  \n",
       "mode      0.473775 -0.182344  \n",
       "centroid  0.515570 -0.216979  \n",
       "meanfun   0.275154 -0.054858  \n",
       "minfun    0.316486  0.002042  \n",
       "maxfun    0.359880 -0.363029  \n",
       "meandom   0.811304 -0.180954  \n",
       "mindom    0.008666  0.200212  \n",
       "maxdom    0.999838 -0.425531  \n",
       "dfrange   1.000000 -0.429266  \n",
       "modindx  -0.429266  1.000000  "
      ]
     },
     "execution_count": 4,
     "metadata": {},
     "output_type": "execute_result"
    }
   ],
   "source": [
    "corrmat = data.corr()\n",
    "corrmat"
   ]
  },
  {
   "cell_type": "markdown",
   "id": "eb894706",
   "metadata": {},
   "source": [
    "## Null Values Check"
   ]
  },
  {
   "cell_type": "code",
   "execution_count": 5,
   "id": "00d3fd4a",
   "metadata": {},
   "outputs": [
    {
     "data": {
      "text/plain": [
       "meanfreq    0\n",
       "sd          0\n",
       "median      0\n",
       "Q25         0\n",
       "Q75         0\n",
       "IQR         0\n",
       "skew        0\n",
       "kurt        0\n",
       "sp.ent      0\n",
       "sfm         0\n",
       "mode        0\n",
       "centroid    0\n",
       "meanfun     0\n",
       "minfun      0\n",
       "maxfun      0\n",
       "meandom     0\n",
       "mindom      0\n",
       "maxdom      0\n",
       "dfrange     0\n",
       "modindx     0\n",
       "label       0\n",
       "dtype: int64"
      ]
     },
     "execution_count": 5,
     "metadata": {},
     "output_type": "execute_result"
    }
   ],
   "source": [
    "data.isnull().sum()"
   ]
  },
  {
   "cell_type": "code",
   "execution_count": 6,
   "id": "f3f3c4a0",
   "metadata": {},
   "outputs": [
    {
     "name": "stdout",
     "output_type": "stream",
     "text": [
      "Total no of rows: 3168\n",
      "Total no of male: 1584\n",
      "Total no of Female: 1584\n"
     ]
    }
   ],
   "source": [
    "print('Total no of rows: %d'%data.shape[0])\n",
    "print('Total no of male: %d' %(data[data['label']=='male'].shape[0]))\n",
    "print('Total no of Female: %d'%(data[data['label']== 'female'].shape[0]))"
   ]
  },
  {
   "cell_type": "markdown",
   "id": "859bfbeb",
   "metadata": {},
   "source": [
    "# Feature Selection"
   ]
  },
  {
   "cell_type": "code",
   "execution_count": 7,
   "id": "f3ea2f81",
   "metadata": {},
   "outputs": [
    {
     "data": {
      "text/html": [
       "<div>\n",
       "<style scoped>\n",
       "    .dataframe tbody tr th:only-of-type {\n",
       "        vertical-align: middle;\n",
       "    }\n",
       "\n",
       "    .dataframe tbody tr th {\n",
       "        vertical-align: top;\n",
       "    }\n",
       "\n",
       "    .dataframe thead th {\n",
       "        text-align: right;\n",
       "    }\n",
       "</style>\n",
       "<table border=\"1\" class=\"dataframe\">\n",
       "  <thead>\n",
       "    <tr style=\"text-align: right;\">\n",
       "      <th></th>\n",
       "      <th>label</th>\n",
       "    </tr>\n",
       "  </thead>\n",
       "  <tbody>\n",
       "    <tr>\n",
       "      <th>0</th>\n",
       "      <td>male</td>\n",
       "    </tr>\n",
       "    <tr>\n",
       "      <th>1</th>\n",
       "      <td>male</td>\n",
       "    </tr>\n",
       "    <tr>\n",
       "      <th>2</th>\n",
       "      <td>male</td>\n",
       "    </tr>\n",
       "  </tbody>\n",
       "</table>\n",
       "</div>"
      ],
      "text/plain": [
       "  label\n",
       "0  male\n",
       "1  male\n",
       "2  male"
      ]
     },
     "execution_count": 7,
     "metadata": {},
     "output_type": "execute_result"
    }
   ],
   "source": [
    "X = data.iloc[:,:-1]\n",
    "y = data.iloc[:,-1:]\n",
    "\n",
    "X.head(3)\n",
    "y.head(3)"
   ]
  },
  {
   "cell_type": "markdown",
   "id": "0b142508",
   "metadata": {},
   "source": [
    "## Scaling and Encoding"
   ]
  },
  {
   "cell_type": "code",
   "execution_count": 8,
   "id": "9d88362c",
   "metadata": {},
   "outputs": [
    {
     "name": "stderr",
     "output_type": "stream",
     "text": [
      "C:\\Users\\Harpreet\\anaconda3\\lib\\site-packages\\sklearn\\preprocessing\\_label.py:116: DataConversionWarning: A column-vector y was passed when a 1d array was expected. Please change the shape of y to (n_samples, ), for example using ravel().\n",
      "  y = column_or_1d(y, warn=True)\n"
     ]
    },
    {
     "data": {
      "text/plain": [
       "array([1, 1, 1, ..., 0, 0, 0])"
      ]
     },
     "execution_count": 8,
     "metadata": {},
     "output_type": "execute_result"
    }
   ],
   "source": [
    "from sklearn.preprocessing import LabelEncoder\n",
    "gender_encoder = LabelEncoder()\n",
    "y = gender_encoder.fit_transform(y)\n",
    "y"
   ]
  },
  {
   "cell_type": "code",
   "execution_count": 9,
   "id": "0c0f2938",
   "metadata": {},
   "outputs": [
    {
     "name": "stdout",
     "output_type": "stream",
     "text": [
      "[[-4.04924806  0.4273553  -4.22490077 ... -1.43142165 -1.41913712\n",
      "  -1.45477229]\n",
      " [-3.84105325  0.6116695  -3.99929342 ... -1.41810716 -1.4058184\n",
      "  -1.01410294]\n",
      " [-3.46306647  1.60384791 -4.09585052 ... -1.42920257 -1.41691733\n",
      "  -1.06534356]\n",
      " ...\n",
      " [-1.29877326  2.32272355 -0.05197279 ... -0.5992661  -0.58671739\n",
      "   0.17588664]\n",
      " [-1.2452018   2.012196   -0.01772849 ... -0.41286326 -0.40025537\n",
      "   1.14916112]\n",
      " [-0.51474626  2.14765111 -0.07087873 ... -1.27608595 -1.2637521\n",
      "   1.47567886]]\n"
     ]
    }
   ],
   "source": [
    "# scale the data between -1 to 1\n",
    "from sklearn.preprocessing import StandardScaler\n",
    "scaler = StandardScaler()\n",
    "scaler.fit(X)\n",
    "X = scaler.transform(X)\n",
    "print(X)"
   ]
  },
  {
   "cell_type": "markdown",
   "id": "f0d362e5",
   "metadata": {},
   "source": [
    "# Train_Test Split"
   ]
  },
  {
   "cell_type": "code",
   "execution_count": 10,
   "id": "d6083ac9",
   "metadata": {},
   "outputs": [],
   "source": [
    "from sklearn.model_selection import train_test_split\n",
    "X_train,X_test,y_train,y_test = train_test_split(X,y,test_size = 0.20)"
   ]
  },
  {
   "cell_type": "markdown",
   "id": "0461aa24",
   "metadata": {},
   "source": [
    "# SVM with Default Hyper-Parameter"
   ]
  },
  {
   "cell_type": "code",
   "execution_count": 11,
   "id": "2da61e28",
   "metadata": {},
   "outputs": [
    {
     "name": "stdout",
     "output_type": "stream",
     "text": [
      "Accuracy Score:\n",
      "0.9858044164037855\n"
     ]
    }
   ],
   "source": [
    "from sklearn.svm import SVC\n",
    "from sklearn import metrics\n",
    "svc = SVC()\n",
    "svc.fit(X_train,y_train)\n",
    "y_pred = svc.predict(X_test)\n",
    "print(\"Accuracy Score:\")\n",
    "print(metrics.accuracy_score(y_test,y_pred))"
   ]
  },
  {
   "cell_type": "markdown",
   "id": "d87d877d",
   "metadata": {},
   "source": [
    "# LInear Kernal"
   ]
  },
  {
   "cell_type": "code",
   "execution_count": 12,
   "id": "09de1237",
   "metadata": {},
   "outputs": [
    {
     "name": "stdout",
     "output_type": "stream",
     "text": [
      "Accuracy Score :\n",
      "0.9794952681388013\n"
     ]
    }
   ],
   "source": [
    "svc = SVC(kernel = 'linear')\n",
    "svc.fit(X_train,y_train)\n",
    "y_pred = svc.predict(X_test)\n",
    "print(\"Accuracy Score :\")\n",
    "print(metrics.accuracy_score(y_test,y_pred))"
   ]
  },
  {
   "cell_type": "markdown",
   "id": "84a20c75",
   "metadata": {},
   "source": [
    "# Polynomial Kernal"
   ]
  },
  {
   "cell_type": "code",
   "execution_count": 13,
   "id": "f52f78d8",
   "metadata": {},
   "outputs": [
    {
     "name": "stdout",
     "output_type": "stream",
     "text": [
      "Accuracy Score:\n",
      "0.9668769716088328\n"
     ]
    }
   ],
   "source": [
    "svc = SVC(kernel = 'poly')\n",
    "svc.fit(X_train,y_train)\n",
    "y_pred = svc.predict(X_test)\n",
    "print(\"Accuracy Score:\")\n",
    "print(metrics.accuracy_score(y_test,y_pred))"
   ]
  },
  {
   "cell_type": "markdown",
   "id": "4bb72287",
   "metadata": {},
   "source": [
    "# Optimization of HyperParameter C"
   ]
  },
  {
   "cell_type": "code",
   "execution_count": 14,
   "id": "8d276735",
   "metadata": {},
   "outputs": [
    {
     "name": "stdout",
     "output_type": "stream",
     "text": [
      "[0.9696991175178692, 0.969068202691371, 0.969068202691371, 0.969068202691371, 0.9693836601046201, 0.9693836601046201, 0.969068202691371, 0.9687527452781215, 0.9684372878648724, 0.9684372878648724, 0.9684372878648724, 0.9684372878648724, 0.9681208321686698, 0.9681208321686698, 0.9681208321686698, 0.9681208321686698, 0.9678043764724673, 0.9678043764724673, 0.9678043764724673, 0.9678043764724673, 0.9681208321686698, 0.968436289581919, 0.968436289581919, 0.9681198338857164]\n"
     ]
    }
   ],
   "source": [
    "# cross-validation import from sklearn\n",
    "from sklearn.model_selection import cross_val_score\n",
    "C_range = list(range(1,25))\n",
    "acc_score = []\n",
    "for c in C_range:\n",
    "    svc = SVC(kernel = 'linear',C = c)\n",
    "    scores = cross_val_score(svc,X,y,cv = 10,scoring = 'accuracy')\n",
    "    acc_score.append(scores.mean())\n",
    "print(acc_score)"
   ]
  },
  {
   "cell_type": "code",
   "execution_count": 15,
   "id": "fb19913c",
   "metadata": {},
   "outputs": [
    {
     "data": {
      "text/plain": [
       "Text(0, 0.5, 'Cross-Validate Accuracy')"
      ]
     },
     "execution_count": 15,
     "metadata": {},
     "output_type": "execute_result"
    },
    {
     "data": {
      "image/png": "[encoded data removed]",
      "text/plain": [
       "<Figure size 1000x600 with 1 Axes>"
      ]
     },
     "metadata": {},
     "output_type": "display_data"
    }
   ],
   "source": [
    "plt.figure(figsize = (10,6))\n",
    "C_values = list(range(1,25))\n",
    "# plot c values in X-axis and cross_validate_accuracy on y-axis\n",
    "plt.plot(C_values,acc_score)\n",
    "plt.xticks(np.arange(0,25,1))\n",
    "plt.xlabel('Value of C for SVM')\n",
    "plt.ylabel('Cross-Validate Accuracy')"
   ]
  },
  {
   "cell_type": "code",
   "execution_count": 16,
   "id": "c11ef5d4",
   "metadata": {},
   "outputs": [
    {
     "name": "stdout",
     "output_type": "stream",
     "text": [
      "[0.9706474863235236, 0.9693846583875733, 0.9693836601046201, 0.9693836601046201, 0.9696991175178692, 0.9696991175178692, 0.9693836601046201, 0.9696981192349158, 0.9693826618216667, 0.9696991175178692, 0.9696991175178692, 0.9696991175178692, 0.9696991175178692, 0.9690672044084174, 0.9693836601046201, 0.9693836601046201, 0.9693836601046201, 0.9693836601046201, 0.969068202691371]\n"
     ]
    }
   ],
   "source": [
    "C_range = list(np.arange(0.1,2,0.1))\n",
    "acc_score = []\n",
    "for c in C_range:\n",
    "    svc = SVC(kernel = 'linear',C = c)\n",
    "    scores = cross_val_score(svc,X,y,cv = 10,scoring = 'accuracy')\n",
    "    acc_score.append(scores.mean())\n",
    "print(acc_score)"
   ]
  },
  {
   "cell_type": "code",
   "execution_count": 17,
   "id": "58d8a02d",
   "metadata": {},
   "outputs": [
    {
     "data": {
      "text/plain": [
       "Text(0, 0.5, 'Cross_Validate Accuracy')"
      ]
     },
     "execution_count": 17,
     "metadata": {},
     "output_type": "execute_result"
    },
    {
     "data": {
      "image/png": "[encoded data removed]",
      "text/plain": [
       "<Figure size 1000x600 with 1 Axes>"
      ]
     },
     "metadata": {},
     "output_type": "display_data"
    }
   ],
   "source": [
    "plt.figure(figsize=(10,6))\n",
    "C_values = list(np.arange(0.1,2,0.1))\n",
    "#plot C value in axis and cross_validate_accuracy on y-axis\n",
    "plt.plot(C_values,acc_score)\n",
    "plt.xticks(np.arange(0.1,2,0.1))\n",
    "plt.xlabel('Value of C for SVM')\n",
    "plt.ylabel('Cross_Validate Accuracy')"
   ]
  },
  {
   "cell_type": "markdown",
   "id": "95f3c986",
   "metadata": {},
   "source": [
    "# Optimization the Hyper-Parameter Gamma"
   ]
  },
  {
   "cell_type": "code",
   "execution_count": 18,
   "id": "db70e7a6",
   "metadata": {},
   "outputs": [
    {
     "name": "stdout",
     "output_type": "stream",
     "text": [
      "[0.888240226809887, 0.9551820868106857, 0.9681168390368565, 0.9636874575729744, 0.9061883560276325, 0.6016421754582119, 0.49905362776025236]\n"
     ]
    }
   ],
   "source": [
    "gamma_range = [0.0001,0.001,0.01,0.1,1,10,100]\n",
    "acc_score = []\n",
    "for g in gamma_range:\n",
    "    svc = SVC(kernel= 'rbf',gamma = g)\n",
    "    scores = cross_val_score(svc,X,y,cv = 10,scoring = 'accuracy')\n",
    "    acc_score.append(scores.mean())\n",
    "print(acc_score)"
   ]
  },
  {
   "cell_type": "code",
   "execution_count": 19,
   "id": "b69907d9",
   "metadata": {},
   "outputs": [
    {
     "data": {
      "text/plain": [
       "Text(0, 0.5, 'Cross-Validated Accuracy')"
      ]
     },
     "execution_count": 19,
     "metadata": {},
     "output_type": "execute_result"
    },
    {
     "data": {
      "image/png": "[encoded data removed]",
      "text/plain": [
       "<Figure size 2000x600 with 1 Axes>"
      ]
     },
     "metadata": {},
     "output_type": "display_data"
    }
   ],
   "source": [
    "%matplotlib inline\n",
    "plt.figure(figsize=(20,6))\n",
    "gamma_range = [0.0001,0.001,0.01,0.1,1,10,100]\n",
    "\n",
    "#plot the value of C for SVM(x-axis) versus the cross_validated accuracy (y-axis)\n",
    "plt.plot(gamma_range,acc_score)\n",
    "plt.xlabel('Value of gamma for svc')\n",
    "plt.xticks(np.arange(0.0001,100,5))\n",
    "plt.ylabel('Cross-Validated Accuracy')"
   ]
  },
  {
   "cell_type": "markdown",
   "id": "77fbac57",
   "metadata": {},
   "source": [
    "# Optimized Parameter from GridSearchCv"
   ]
  },
  {
   "cell_type": "code",
   "execution_count": 20,
   "id": "76995107",
   "metadata": {},
   "outputs": [],
   "source": [
    "tuned_parameter = {\n",
    "    'C':(np.arange(0.01,1,0.01)),'kernel':['linear'],\n",
    "    'C':(np.arange(0.01,1,0.01)),'gamma':[0.01,0.02,0.03,0.04,0.05],'kernel':['rbf'],\n",
    "    'degree':[2,3,4,5],'gamma':[0.01,0.02,0.03,0.04,0.05],'C':(np.arange(0.01,1,0.01)),'kernel':['poly']\n",
    "}"
   ]
  },
  {
   "cell_type": "code",
   "execution_count": 21,
   "id": "6e697f82",
   "metadata": {},
   "outputs": [],
   "source": [
    "from sklearn.model_selection import GridSearchCV\n",
    "model_svm = GridSearchCV(svc,tuned_parameter,cv =10,scoring = 'accuracy')"
   ]
  },
  {
   "cell_type": "code",
   "execution_count": null,
   "id": "40ebfed5",
   "metadata": {},
   "outputs": [],
   "source": [
    "model_svm.fit(X_train,y_train)\n",
    "print(model_svm.best_score_)"
   ]
  },
  {
   "cell_type": "code",
   "execution_count": null,
   "id": "a8b4d022",
   "metadata": {},
   "outputs": [],
   "source": [
    "print(model_svm.best_params_)"
   ]
  },
  {
   "cell_type": "code",
   "execution_count": null,
   "id": "afd0f6a6",
   "metadata": {},
   "outputs": [],
   "source": [
    "svc = SVC(kernel='poly',C=0.99,degree=3,gamma=0.05)\n",
    "svc.fit(X_train,y_train)\n",
    "y_pred = svc.predict(X_test)\n",
    "print('Accuracy Score:')\n",
    "print(metrics.accuracy_score(y_test,y_pred))"
   ]
  },
  {
   "cell_type": "code",
   "execution_count": null,
   "id": "f43a84b9",
   "metadata": {},
   "outputs": [],
   "source": [
    "from sklearn.metrics import confusion_matrix,classification_report,recall_score,roc_curve,precision_score,roc_auc_score\n",
    "cnf_matrix = confusion_matrix(y_test,y_pred)\n",
    "cnf_matrix"
   ]
  },
  {
   "cell_type": "code",
   "execution_count": null,
   "id": "57426319",
   "metadata": {},
   "outputs": [],
   "source": []
  }
 ],
 "metadata": {
  "kernelspec": {
   "display_name": "Python 3 (ipykernel)",
   "language": "python",
   "name": "python3"
  },
  "language_info": {
   "codemirror_mode": {
    "name": "ipython",
    "version": 3
   },
   "file_extension": ".py",
   "mimetype": "text/x-python",
   "name": "python",
   "nbconvert_exporter": "python",
   "pygments_lexer": "ipython3",
   "version": "3.10.9"
  }
 },
 "nbformat": 4,
 "nbformat_minor": 5
}
